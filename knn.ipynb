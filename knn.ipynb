{
 "cells": [
  {
   "cell_type": "markdown",
   "id": "d2ef0968",
   "metadata": {},
   "source": [
    "# KNN using sample data"
   ]
  },
  {
   "cell_type": "code",
   "execution_count": 1,
   "id": "1404cb6c",
   "metadata": {},
   "outputs": [],
   "source": [
    "#import needed libraries\n",
    "from csv import reader\n",
    "from math import sqrt\n",
    "from statistics import mode\n",
    "import random"
   ]
  },
  {
   "cell_type": "code",
   "execution_count": 2,
   "id": "d327a7ba",
   "metadata": {},
   "outputs": [],
   "source": [
    "#load csv file as dataset\n",
    "def load_dataset(filename):\n",
    "    #function return dataset read from csv \n",
    "    dataset=[]\n",
    "    with open(filename,'r') as file:   #open the file in read format\n",
    "        csv_reader=reader(file)         #read the file\n",
    "        for row in csv_reader:\n",
    "            if not row:                            #if the row contain no record discard it\n",
    "                continue\n",
    "            dataset.append(row)             #append all the rows into dataset\n",
    "    del dataset[0]                              #delete the column name from the dataset\n",
    "     #convert the string column values into numerical\n",
    "    for col in range(0,len(dataset[0])-1):\n",
    "      for row in dataset:\n",
    "           row[col] = float(row[col].strip())  #remove extra trailing spaces\n",
    "    return dataset"
   ]
  },
  {
   "cell_type": "code",
   "execution_count": 3,
   "id": "22878413",
   "metadata": {},
   "outputs": [],
   "source": [
    "#find euclidean distance between two rows\n",
    "def euclidean_distance(l1,l2):\n",
    "    #function return eucildean distance between inputs and a row in dataset\n",
    "    dist=0\n",
    "    for i in range(len(l1)-1):\n",
    "        dist+=(l1[i]-l2[i])**2\n",
    "    return sqrt(dist)"
   ]
  },
  {
   "cell_type": "code",
   "execution_count": 6,
   "id": "4a4b5f74",
   "metadata": {},
   "outputs": [],
   "source": [
    "#Predict a single row values\n",
    "def predict(data,ip_row,n):\n",
    "    dist_list=[]\n",
    "    print(\"X1\\tX2\\tX3\\tdistance\\tY\\tRank\") #give these column names according to given problem\n",
    "    for i in range(len(data)): #for each row in dataset\n",
    "        dist_list.append([euclidean_distance(data[i],ip_row),data[i][len(data[0])-1]]) #distance list [euclidean distance between the input and this row,label]\n",
    "    rank_list=[] \n",
    "    #the distance values in distance list are copied to rank list.\n",
    "    #direct copy may change the value of dist_list if we change the values in rank_list so append each value into rank_list\n",
    "    for i in range(len(dist_list)):\n",
    "        rank_list.append(dist_list[i])\n",
    "    rank_list.sort()  #sort the rank list in ascending order\n",
    "    #check if the value in dist_list match the value in rank_list \n",
    "    #if there is match the rank_list's index which denote rank will retrieved to print the rank for the paticular distance\n",
    "    for i in range(len(data)):\n",
    "        for j in range(len(rank_list)):\n",
    "            if(dist_list[i]==rank_list[j]):\n",
    "                #the values may vary according to the given problem \n",
    "                print(data[i][0],\"\\t\",data[i][1],\"\\t\",data[i][2],\"\\t\",round(dist_list[i][0],3),\"\\t\",data[i][3],\"\\t\",j+1)\n",
    "    dist_list.sort() #sort the distance list\n",
    "    nearest_neighbours=dist_list[:n] #retrieve the first n rows in list\n",
    "    print(\"Nearest neighbours\")\n",
    "    print(\"Distance\\tClass\")\n",
    "    for i in range(len(nearest_neighbours)):\n",
    "        print(round(nearest_neighbours[i][0],3),\"\\t\",nearest_neighbours[i][1])\n",
    "    labels=[] \n",
    "    #to calaculate the frequently occured label in the list\n",
    "    for i in range(len(nearest_neighbours)):\n",
    "        labels.append(nearest_neighbours[i][1])\n",
    "    return mode(labels)"
   ]
  },
  {
   "cell_type": "code",
   "execution_count": 7,
   "id": "cd23d6f8",
   "metadata": {},
   "outputs": [
    {
     "name": "stdout",
     "output_type": "stream",
     "text": [
      "Number of features:3\n",
      "Enter the input  1 : 0\n",
      "Enter the input  2 : 0\n",
      "Enter the input  3 : 0\n",
      "Enter the number of nearest value:3\n",
      "X1\tX2\tX3\tdistance\tY\tRank\n",
      "0.0 \t 3.0 \t 0.0 \t 3.0 \t Red \t 5\n",
      "2.0 \t 0.0 \t 0.0 \t 2.0 \t Red \t 3\n",
      "0.0 \t 1.0 \t 3.0 \t 3.162 \t Red \t 6\n",
      "0.0 \t 1.0 \t 2.0 \t 2.236 \t Green \t 4\n",
      "-1.0 \t 0.0 \t 1.0 \t 1.414 \t Green \t 1\n",
      "1.0 \t 1.0 \t 1.0 \t 1.732 \t Red \t 2\n",
      "Nearest neighbours\n",
      "Distance\tClass\n",
      "1.414 \t Green\n",
      "1.732 \t Red\n",
      "2.0 \t Red\n",
      "______________________PREDICTION___________________\n",
      "X1\tX2\tX3\tY\n",
      "0\t0\t0\tRed\n"
     ]
    }
   ],
   "source": [
    "#main function\n",
    "filename='knneg.csv'\n",
    "data=load_dataset(filename)\n",
    "num=int(input(\"Number of features:\"))  #number of inputs\n",
    "ip_row=[]\n",
    "for i in range(0,num):\n",
    "    print(\"Enter the input \",i+1,\":\",end=\" \")\n",
    "    ip_row.append(int(input()))\n",
    "neighbours=int(input(\"Enter the number of nearest value:\")) #enter the k value\n",
    "predict_label=predict(data,ip_row,neighbours)\n",
    "print(\"______________________PREDICTION___________________\")\n",
    "print(\"X1\\tX2\\tX3\\tY\")\n",
    "for i in range(len(ip_row)): #printing the inputs and the predicted label\n",
    "    print(ip_row[i],end=\"\\t\")\n",
    "print(predict_label)"
   ]
  },
  {
   "cell_type": "code",
   "execution_count": null,
   "id": "14e947eb",
   "metadata": {},
   "outputs": [],
   "source": []
  }
 ],
 "metadata": {
  "kernelspec": {
   "display_name": "Python 3",
   "language": "python",
   "name": "python3"
  },
  "language_info": {
   "codemirror_mode": {
    "name": "ipython",
    "version": 3
   },
   "file_extension": ".py",
   "mimetype": "text/x-python",
   "name": "python",
   "nbconvert_exporter": "python",
   "pygments_lexer": "ipython3",
   "version": "3.8.8"
  }
 },
 "nbformat": 4,
 "nbformat_minor": 5
}
