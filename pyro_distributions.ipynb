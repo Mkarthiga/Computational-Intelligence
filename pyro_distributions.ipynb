{
  "nbformat": 4,
  "nbformat_minor": 0,
  "metadata": {
    "colab": {
      "provenance": []
    },
    "kernelspec": {
      "name": "python3",
      "display_name": "Python 3"
    },
    "language_info": {
      "name": "python"
    }
  },
  "cells": [
    {
      "cell_type": "code",
      "execution_count": 1,
      "metadata": {
        "colab": {
          "base_uri": "https://localhost:8080/"
        },
        "id": "8EBK9Ncq6H5A",
        "outputId": "cb3fce1c-037c-49dd-bd54-67668f5f5749"
      },
      "outputs": [
        {
          "output_type": "stream",
          "name": "stdout",
          "text": [
            "Collecting pyro-ppl\n",
            "  Downloading pyro_ppl-1.8.6-py3-none-any.whl (732 kB)\n",
            "\u001b[2K     \u001b[90m━━━━━━━━━━━━━━━━━━━━━━━━━━━━━━━━━━━━━━━━\u001b[0m \u001b[32m732.8/732.8 kB\u001b[0m \u001b[31m9.4 MB/s\u001b[0m eta \u001b[36m0:00:00\u001b[0m\n",
            "\u001b[?25hRequirement already satisfied: numpy>=1.7 in /usr/local/lib/python3.10/dist-packages (from pyro-ppl) (1.23.5)\n",
            "Requirement already satisfied: opt-einsum>=2.3.2 in /usr/local/lib/python3.10/dist-packages (from pyro-ppl) (3.3.0)\n",
            "Collecting pyro-api>=0.1.1 (from pyro-ppl)\n",
            "  Downloading pyro_api-0.1.2-py3-none-any.whl (11 kB)\n",
            "Requirement already satisfied: torch>=1.11.0 in /usr/local/lib/python3.10/dist-packages (from pyro-ppl) (2.1.0+cu118)\n",
            "Requirement already satisfied: tqdm>=4.36 in /usr/local/lib/python3.10/dist-packages (from pyro-ppl) (4.66.1)\n",
            "Requirement already satisfied: filelock in /usr/local/lib/python3.10/dist-packages (from torch>=1.11.0->pyro-ppl) (3.12.4)\n",
            "Requirement already satisfied: typing-extensions in /usr/local/lib/python3.10/dist-packages (from torch>=1.11.0->pyro-ppl) (4.5.0)\n",
            "Requirement already satisfied: sympy in /usr/local/lib/python3.10/dist-packages (from torch>=1.11.0->pyro-ppl) (1.12)\n",
            "Requirement already satisfied: networkx in /usr/local/lib/python3.10/dist-packages (from torch>=1.11.0->pyro-ppl) (3.2)\n",
            "Requirement already satisfied: jinja2 in /usr/local/lib/python3.10/dist-packages (from torch>=1.11.0->pyro-ppl) (3.1.2)\n",
            "Requirement already satisfied: fsspec in /usr/local/lib/python3.10/dist-packages (from torch>=1.11.0->pyro-ppl) (2023.6.0)\n",
            "Requirement already satisfied: triton==2.1.0 in /usr/local/lib/python3.10/dist-packages (from torch>=1.11.0->pyro-ppl) (2.1.0)\n",
            "Requirement already satisfied: MarkupSafe>=2.0 in /usr/local/lib/python3.10/dist-packages (from jinja2->torch>=1.11.0->pyro-ppl) (2.1.3)\n",
            "Requirement already satisfied: mpmath>=0.19 in /usr/local/lib/python3.10/dist-packages (from sympy->torch>=1.11.0->pyro-ppl) (1.3.0)\n",
            "Installing collected packages: pyro-api, pyro-ppl\n",
            "Successfully installed pyro-api-0.1.2 pyro-ppl-1.8.6\n"
          ]
        }
      ],
      "source": [
        " !pip install pyro-ppl"
      ]
    },
    {
      "cell_type": "code",
      "source": [
        "import pyro\n",
        "import pyro.distributions as dist\n",
        "import random"
      ],
      "metadata": {
        "id": "6_wvX8xH7o0W"
      },
      "execution_count": 2,
      "outputs": []
    },
    {
      "cell_type": "markdown",
      "source": [
        "**Poisson** **Distribution**"
      ],
      "metadata": {
        "id": "NjN7wvNm9RGH"
      }
    },
    {
      "cell_type": "markdown",
      "source": [
        "The Poisson distribution is a discrete probability distribution that models the probability of a certain number of events occurring in a fixed interval of time or space, given the average rate of occurrence. It has a rate parameter `λ` that represents the average number of events per interval. The formula for the Poisson distribution is:\n",
        "\n",
        "```\n",
        "P(X = k) = (λ^k * e^(-λ)) / k!\n",
        "```\n",
        "\n",
        "where `X` is a random variable that represents the number of events, `k` is a non-negative integer, `λ` is the rate parameter, and `e` is the mathematical constant approximately equal to 2.71828. The symbol `k!` represents the factorial of `k`, which is the product of all positive integers up to and including `k`."
      ],
      "metadata": {
        "id": "slbnAtb59wAF"
      }
    },
    {
      "cell_type": "code",
      "source": [
        "def Poisson_dist(rate,num_samples):\n",
        "  sample_list=[]\n",
        "  i=0\n",
        "  while(i<num_samples):\n",
        "    k=pyro.sample(\"poission_sample\",dist.Poisson(rate))\n",
        "    sample_list.append(k)\n",
        "    i=i+1\n",
        "  return sample_list"
      ],
      "metadata": {
        "id": "9m0KqYEP9UIx"
      },
      "execution_count": 13,
      "outputs": []
    },
    {
      "cell_type": "markdown",
      "source": [
        "**Binomial** **Distribution**"
      ],
      "metadata": {
        "id": "aCZeIeg_-LOb"
      }
    },
    {
      "cell_type": "markdown",
      "source": [
        "The binomial distribution formula is used to calculate the probability of obtaining a specific number of successes in a fixed number of independent Bernoulli trials.\n",
        "\n",
        "The formula for the binomial distribution is:\n",
        "\n",
        "P(X = k) = C(n, k) * p^k * (1-p)^(n-k)\n",
        "\n",
        "Where:\n",
        "- P(X = k) is the probability of getting exactly k successes\n",
        "- n is the total number of trials\n",
        "- k is the number of successes\n",
        "- p is the probability of success in a single trial\n",
        "- C(n, k) is the binomial coefficient, also known as \"n choose k,\" which represents the number of combinations of n items taken k at a time and can be calculated as C(n, k) = n! / (k! * (n-k)!)\n",
        "\n",
        "In this formula, p^k represents the probability of getting k successes, (1-p)^(n-k) represents the probability of getting (n-k) failures, and C(n, k) represents the number of ways to choose k successes from n trials.\n",
        "\n",
        "This formula allows you to calculate the probability of getting a specific number of successes in a binomial experiment given the number of trials, the probability of success, and the desired number of successes."
      ],
      "metadata": {
        "id": "V8lwwR6n-QlK"
      }
    },
    {
      "cell_type": "code",
      "source": [
        "def Binomial_dist(n,p,num_samples):\n",
        "  sample_list=[]\n",
        "  i=0\n",
        "  while(i<num_samples):\n",
        "    k=pyro.sample(\"Binomial_sample\",dist.Binomial(n,p))\n",
        "    sample_list.append(k)\n",
        "    i=i+1\n",
        "  return sample_list"
      ],
      "metadata": {
        "id": "Fc2TBhn9-KjO"
      },
      "execution_count": 7,
      "outputs": []
    },
    {
      "cell_type": "markdown",
      "source": [
        "**Bernoulli** **Distribution**"
      ],
      "metadata": {
        "id": "vhgS-WWs-yHq"
      }
    },
    {
      "cell_type": "markdown",
      "source": [
        "The Bernoulli distribution is a discrete probability distribution that describes the outcomes of a single binary event, such as flipping a coin or the success or failure of a single trial in an experiment. It has one parameter, which is the probability of success, denoted as p."
      ],
      "metadata": {
        "id": "-OLXYhZ3-6jL"
      }
    },
    {
      "cell_type": "code",
      "source": [
        "def Bernoulli_dist(prob,num_samples):\n",
        "  sample_list=[]\n",
        "  i=0\n",
        "  while(i<num_samples):\n",
        "    k=pyro.sample(\"Bernoulli_sample\",dist.Bernoulli(prob))\n",
        "    sample_list.append(k)\n",
        "    i=i+1\n",
        "  return sample_list"
      ],
      "metadata": {
        "id": "2xNlxQKb_bLO"
      },
      "execution_count": 8,
      "outputs": []
    },
    {
      "cell_type": "markdown",
      "source": [
        "**Gaussian** **/** **Normal** **distribution**"
      ],
      "metadata": {
        "id": "RWk4DvptBIGZ"
      }
    },
    {
      "cell_type": "code",
      "source": [
        "def Gaussian_dist(mean,std,num_samples):\n",
        "  sample_list=[]\n",
        "  i=0\n",
        "  while(i<num_samples):\n",
        "    k=pyro.sample(\"Gaussian_sample\",dist.Normal(mean,std))\n",
        "    sample_list.append(k)\n",
        "    i=i+1\n",
        "  return sample_list"
      ],
      "metadata": {
        "id": "UteScKsLF53F"
      },
      "execution_count": 9,
      "outputs": []
    },
    {
      "cell_type": "markdown",
      "source": [
        "main function"
      ],
      "metadata": {
        "id": "lPRDnIjPJmm4"
      }
    },
    {
      "cell_type": "code",
      "source": [
        "#main function\n",
        "n=int(input(\"Enter the number of samples:\"))\n",
        "print(\"MENU \\n1.Poisson Distribution\\n2.Gaussian Distribution\\n3.Binomial Distribution\\n4.Bernoulli Distribution\")\n",
        "ch=0\n",
        "while(ch<5):\n",
        "  ch=int(input(\"Enter the choice:\"))\n",
        "  if ch==1:\n",
        "      print(\"Poisson Distribution\")\n",
        "      rate=float(input(\"Enter the rate parameter value:\"))\n",
        "      sample=Poisson_dist(rate,n)\n",
        "      print(\"Samples\")\n",
        "      for i in range(len(sample)):\n",
        "        print(sample[i])\n",
        "  elif ch==2:\n",
        "      print(\"Gaussian Distribution\")\n",
        "      mean=float(input(\"Mean value:\"))\n",
        "      std=float(input(\"Standard deviation value:\"))\n",
        "      sample=Gaussian_dist(mean,std,n)\n",
        "      print(\"Samples\")\n",
        "      for i in range(len(sample)):\n",
        "        print(sample[i])\n",
        "  elif ch==3:\n",
        "      print(\"Binomial Distribution\")\n",
        "      num=int(input(\"Total number of trials:\"))\n",
        "      p=float(input(\"probability of success in a single trial\"))\n",
        "      sample=Binomial_dist(num,p,n)\n",
        "      print(\"Samples\")\n",
        "      for i in range(len(sample)):\n",
        "        print(sample[i])\n",
        "  elif ch==4:\n",
        "      print(\"Bernoulli Distribution\")\n",
        "      prob=float(input(\"Probability of sampling:\"))\n",
        "      sample=Bernoulli_dist(prob,n)\n",
        "      print(\"Samples\")\n",
        "      for i in range(len(sample)):\n",
        "        print(sample[i])\n",
        "  else:\n",
        "        print(\"----------INVALID CHOICE-------------\")\n",
        "        break"
      ],
      "metadata": {
        "colab": {
          "base_uri": "https://localhost:8080/"
        },
        "id": "6AnuOnrWJozT",
        "outputId": "9d749038-1134-4feb-e5b4-2ab8d136376e"
      },
      "execution_count": 15,
      "outputs": [
        {
          "output_type": "stream",
          "name": "stdout",
          "text": [
            "Enter the number of samples:15\n",
            "MENU \n",
            "1.Poisson Distribution\n",
            "2.Gaussian Distribution\n",
            "3.Binomial Distribution\n",
            "4.Bernoulli Distribution\n",
            "Enter the choice:1\n",
            "Poisson Distribution\n",
            "Enter the rate parameter value:14\n",
            "Samples\n",
            "tensor(12.)\n",
            "tensor(16.)\n",
            "tensor(15.)\n",
            "tensor(14.)\n",
            "tensor(14.)\n",
            "tensor(23.)\n",
            "tensor(13.)\n",
            "tensor(17.)\n",
            "tensor(18.)\n",
            "tensor(11.)\n",
            "tensor(12.)\n",
            "tensor(12.)\n",
            "tensor(16.)\n",
            "tensor(10.)\n",
            "tensor(16.)\n",
            "Enter the choice:2\n",
            "Gaussian Distribution\n",
            "Mean value:5\n",
            "Standard deviation value:3\n",
            "Samples\n",
            "tensor(-1.1841)\n",
            "tensor(4.9124)\n",
            "tensor(6.7580)\n",
            "tensor(0.3942)\n",
            "tensor(7.6683)\n",
            "tensor(5.1097)\n",
            "tensor(5.2522)\n",
            "tensor(7.0056)\n",
            "tensor(5.1363)\n",
            "tensor(6.9398)\n",
            "tensor(9.1189)\n",
            "tensor(7.6439)\n",
            "tensor(6.0841)\n",
            "tensor(3.5898)\n",
            "tensor(-2.6763)\n",
            "Enter the choice:3\n",
            "Binomial Distribution\n",
            "Total number of trials:30\n",
            "probability of success in a single trial0.4\n",
            "Samples\n",
            "tensor(9.)\n",
            "tensor(9.)\n",
            "tensor(13.)\n",
            "tensor(13.)\n",
            "tensor(9.)\n",
            "tensor(10.)\n",
            "tensor(12.)\n",
            "tensor(12.)\n",
            "tensor(9.)\n",
            "tensor(7.)\n",
            "tensor(12.)\n",
            "tensor(7.)\n",
            "tensor(18.)\n",
            "tensor(12.)\n",
            "tensor(13.)\n",
            "Enter the choice:4\n",
            "Bernoulli Distribution\n",
            "Probability of sampling:0.5\n",
            "Samples\n",
            "tensor(1.)\n",
            "tensor(0.)\n",
            "tensor(0.)\n",
            "tensor(1.)\n",
            "tensor(1.)\n",
            "tensor(1.)\n",
            "tensor(1.)\n",
            "tensor(1.)\n",
            "tensor(1.)\n",
            "tensor(0.)\n",
            "tensor(0.)\n",
            "tensor(0.)\n",
            "tensor(1.)\n",
            "tensor(0.)\n",
            "tensor(1.)\n",
            "Enter the choice:7\n",
            "----------INVALID CHOICE-------------\n"
          ]
        }
      ]
    }
  ]
}